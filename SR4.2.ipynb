{
 "cells": [
  {
   "cell_type": "code",
   "execution_count": 21,
   "id": "9001b4d4-510f-4fec-8a85-a3e544b1aa55",
   "metadata": {},
   "outputs": [],
   "source": [
    "import pandas as pd\n",
    "import numpy as np\n"
   ]
  },
  {
   "cell_type": "code",
   "execution_count": 22,
   "id": "bbbe1648-27f7-451b-a347-b2cc7ba1fd80",
   "metadata": {},
   "outputs": [],
   "source": [
    "# Load the dataset\n",
    "file_path = \"C:/Users/vuyis/Downloads/Cleaned_Closed_Ended_Data.csv\"\n",
    "df = pd.read_csv(\"C:/Users/vuyis/Downloads/Cleaned_Closed_Ended_Data.csv\")\n"
   ]
  },
  {
   "cell_type": "code",
   "execution_count": 23,
   "id": "2fe212a6-4988-4aeb-91d3-97281b2bc0c1",
   "metadata": {},
   "outputs": [
    {
     "name": "stdout",
     "output_type": "stream",
     "text": [
      "Index(['date_time', 'house_pic', 'interview_lang', 'edu_recieved',\n",
      "       'info_recieving', 'communication_way', 'leader_participation',\n",
      "       'commu_org', 'avg_mon_sal', 'house_head', 'no_household',\n",
      "       'chang_eco_situa', 'acc_status', 'edu_level', 'participant_job',\n",
      "       'self_built_house', 'veges', 'flood_exp', 'yrly_flood', 'fire_exp',\n",
      "       'water_satisfied', 'toilet_type', 'water_source'],\n",
      "      dtype='object')\n"
     ]
    }
   ],
   "source": [
    "print(df.columns)\n"
   ]
  },
  {
   "cell_type": "code",
   "execution_count": 24,
   "id": "d4f8f60c-1645-4d56-a5c0-8ebfdc06128e",
   "metadata": {},
   "outputs": [],
   "source": [
    "# Select a column to search\n",
    "search_column = 'communication_way'  # This should be a numeric column"
   ]
  },
  {
   "cell_type": "code",
   "execution_count": 25,
   "id": "e6626a23-cc0a-44d9-9124-449aa89784fc",
   "metadata": {},
   "outputs": [
    {
     "name": "stdout",
     "output_type": "stream",
     "text": [
      "4320    2500.0\n",
      "4323       2.0\n",
      "4324       6.0\n",
      "4325       1.0\n",
      "4327       9.0\n",
      "4330       5.0\n",
      "4332       6.0\n",
      "4335       4.0\n",
      "4336       1.0\n",
      "4337       1.0\n",
      "4339       1.0\n",
      "4341      13.0\n",
      "4356       3.0\n",
      "4366       0.0\n",
      "4369       0.0\n",
      "4372       0.0\n",
      "4375       0.0\n",
      "4378       0.0\n",
      "4381       0.0\n",
      "4384       0.0\n",
      "4387       0.0\n",
      "4390       0.0\n",
      "4393       0.0\n",
      "4396       0.0\n",
      "4399       0.0\n",
      "4402       0.0\n",
      "4405       0.0\n",
      "4408       0.0\n",
      "4411       0.0\n",
      "4414       0.0\n",
      "4417       0.0\n",
      "4420       0.0\n",
      "4423       0.0\n",
      "4426       0.0\n",
      "4429       0.0\n",
      "4432       0.0\n",
      "Name: communication_way, dtype: float64\n"
     ]
    }
   ],
   "source": [
    "# Function to clean the data\n",
    "def clean_numeric_column(column):\n",
    "    cleaned_column = []\n",
    "    for value in column:\n",
    "        try:\n",
    "            # Try to convert directly to float\n",
    "            cleaned_value = float(value)\n",
    "        except ValueError:\n",
    "            # Handle special cases like '<500'\n",
    "            if isinstance(value, str) and '<' in value:\n",
    "                # For example, replace '<500' with 500 or some other logic\n",
    "                cleaned_value = float(value.replace('<', ''))\n",
    "            else:\n",
    "                # Replace other non-numeric values with NaN\n",
    "                cleaned_value = np.nan\n",
    "        cleaned_column.append(cleaned_value)\n",
    "    return cleaned_column\n",
    "\n",
    "# Clean the 'communication_way' column\n",
    "df['communication_way'] = clean_numeric_column(df['communication_way'])\n",
    "\n",
    "# Convert the cleaned column to numeric type\n",
    "df['communication_way'] = pd.to_numeric(df['communication_way'], errors='coerce')\n",
    "\n",
    "# Drop rows with NaN values if necessary\n",
    "df = df.dropna(subset=['communication_way'])\n",
    "\n",
    "# Check the cleaned data\n",
    "print(df['communication_way'])"
   ]
  },
  {
   "cell_type": "code",
   "execution_count": 26,
   "id": "02ea70bc-9200-4102-906f-a42046d611f3",
   "metadata": {},
   "outputs": [],
   "source": [
    "# Function to perform linear search\n",
    "def linear_search(df, target):\n",
    "    for index, value in enumerate(data):\n",
    "        if value == target:\n",
    "            return index\n",
    "    return -1"
   ]
  },
  {
   "cell_type": "code",
   "execution_count": 27,
   "id": "73389d5e-4e8c-47dd-8235-f71b02f6b90f",
   "metadata": {},
   "outputs": [],
   "source": [
    "# Function to perform binary search\n",
    "def binary_search(df, target):\n",
    "    left, right = 0, len(df) - 1\n",
    "    while left <= right:\n",
    "        mid = left + (right - left) // 2\n",
    "        mid_value = df[mid]\n",
    "        if mid_value == target:\n",
    "            return mid\n",
    "        elif mid_value < target:\n",
    "            left = mid + 1\n",
    "        else:\n",
    "            right = mid - 1\n",
    "    return -1"
   ]
  },
  {
   "cell_type": "code",
   "execution_count": 28,
   "id": "4802172e-a31b-4d15-86af-262b829b48b8",
   "metadata": {},
   "outputs": [],
   "source": [
    "# Prepare the data for searching\n",
    "df = df[search_column].dropna().astype(float).tolist()  # Drop NaN values and convert to float\n",
    "\n",
    "target_value = 2500.0"
   ]
  },
  {
   "cell_type": "code",
   "execution_count": 30,
   "id": "e7487e7b-b022-4615-b388-29298201c7ff",
   "metadata": {},
   "outputs": [
    {
     "name": "stdout",
     "output_type": "stream",
     "text": [
      "Linear Search: Found 2500.0 at index 0\n"
     ]
    }
   ],
   "source": [
    "# Define the linear search function\n",
    "def linear_search(df, target):\n",
    "    for index, value in enumerate(df):\n",
    "        if value == target:\n",
    "            return index\n",
    "    return -1  # Return -1 if the target is not found\n",
    "\n",
    "# Perform linear search\n",
    "linear_result = linear_search(df, target_value)\n",
    "if linear_result != -1:\n",
    "    print(f\"Linear Search: Found {target_value} at index {linear_result}\")\n"
   ]
  },
  {
   "cell_type": "code",
   "execution_count": 32,
   "id": "a036006a-029c-4b65-ad33-fb3bb7e58f74",
   "metadata": {},
   "outputs": [
    {
     "name": "stdout",
     "output_type": "stream",
     "text": [
      "Binary Search: Found 2500.0 at index 35\n"
     ]
    }
   ],
   "source": [
    "# Binary search \n",
    "sorted_data = sorted(df)\n",
    "binary_result = binary_search(sorted_data, target_value)\n",
    "if binary_result != -1:\n",
    "    print(f\"Binary Search: Found {target_value} at index {binary_result}\")\n"
   ]
  },
  {
   "cell_type": "code",
   "execution_count": null,
   "id": "b941d4bb-1fac-4567-80ab-b8c86c255a2f",
   "metadata": {},
   "outputs": [],
   "source": []
  }
 ],
 "metadata": {
  "kernelspec": {
   "display_name": "Python 3 (ipykernel)",
   "language": "python",
   "name": "python3"
  },
  "language_info": {
   "codemirror_mode": {
    "name": "ipython",
    "version": 3
   },
   "file_extension": ".py",
   "mimetype": "text/x-python",
   "name": "python",
   "nbconvert_exporter": "python",
   "pygments_lexer": "ipython3",
   "version": "3.12.3"
  }
 },
 "nbformat": 4,
 "nbformat_minor": 5
}
