{
 "cells": [
  {
   "cell_type": "code",
   "execution_count": 12,
   "id": "64824bd7-8afb-4a1c-9924-b58db687daff",
   "metadata": {},
   "outputs": [],
   "source": [
    "import pandas as pd\n",
    "import numpy as np\n",
    "from sklearn.preprocessing import MinMaxScaler"
   ]
  },
  {
   "cell_type": "code",
   "execution_count": 13,
   "id": "0d355a8a-f629-4bfc-94df-079ac8bcb906",
   "metadata": {},
   "outputs": [],
   "source": [
    "file_path = 'C:/Users/vuyis/Downloads/Closed Ended Data.csv'\n",
    "data = pd.read_csv('C:/Users/vuyis/Downloads/Closed Ended Data.csv')"
   ]
  },
  {
   "cell_type": "code",
   "execution_count": 14,
   "id": "72be531d-a454-4d1c-949a-3d3f8e4951e2",
   "metadata": {},
   "outputs": [
    {
     "name": "stdout",
     "output_type": "stream",
     "text": [
      "Dataset Information:\n",
      "<class 'pandas.core.frame.DataFrame'>\n",
      "RangeIndex: 4435 entries, 0 to 4434\n",
      "Data columns (total 23 columns):\n",
      " #   Column                Non-Null Count  Dtype \n",
      "---  ------                --------------  ----- \n",
      " 0   DATE_TIME             4434 non-null   object\n",
      " 1   HOUSE_PIC             304 non-null    object\n",
      " 2   INTERVIEW_LANG        199 non-null    object\n",
      " 3   EDU_RECIEVED          91 non-null     object\n",
      " 4   INFO_RECIEVING        193 non-null    object\n",
      " 5   COMMUNICATION_WAY     195 non-null    object\n",
      " 6   LEADER_PARTICIPATION  189 non-null    object\n",
      " 7   COMMU_ORG             108 non-null    object\n",
      " 8   AVG_MON_SAL           164 non-null    object\n",
      " 9   HOUSE_HEAD            166 non-null    object\n",
      " 10  NO_HOUSEHOLD          172 non-null    object\n",
      " 11  CHANG_ECO_SITUA       166 non-null    object\n",
      " 12  ACC_STATUS            159 non-null    object\n",
      " 13  EDU_LEVEL             160 non-null    object\n",
      " 14  PARTICIPANT_JOB       175 non-null    object\n",
      " 15  SELF_BUILT_HOUSE      170 non-null    object\n",
      " 16  VEGES                 159 non-null    object\n",
      " 17  FLOOD_EXP             159 non-null    object\n",
      " 18  YRLY_FLOOD            84 non-null     object\n",
      " 19  FIRE_EXP              158 non-null    object\n",
      " 20  WATER_SATISFIED       127 non-null    object\n",
      " 21  TOILET_TYPE           121 non-null    object\n",
      " 22  WATER_SOURCE          158 non-null    object\n",
      "dtypes: object(23)\n",
      "memory usage: 797.0+ KB\n"
     ]
    }
   ],
   "source": [
    "print(\"Dataset Information:\")\n",
    "data.info()"
   ]
  },
  {
   "cell_type": "code",
   "execution_count": 15,
   "id": "6bade544-0f55-44eb-b40a-27e84dda451c",
   "metadata": {},
   "outputs": [
    {
     "name": "stdout",
     "output_type": "stream",
     "text": [
      "\n",
      "Dataset Shape (rows, columns):\n",
      "(4435, 23)\n"
     ]
    }
   ],
   "source": [
    "print(\"\\nDataset Shape (rows, columns):\")\n",
    "print(data.shape)"
   ]
  },
  {
   "cell_type": "code",
   "execution_count": 16,
   "id": "dea4c0dd-7508-4cdc-a820-a7c155c949d7",
   "metadata": {},
   "outputs": [
    {
     "name": "stdout",
     "output_type": "stream",
     "text": [
      "\n",
      "First few rows of the dataset:\n",
      "             DATE_TIME HOUSE_PIC INTERVIEW_LANG EDU_RECIEVED INFO_RECIEVING   \\\n",
      "0  2022-10-11T12:24:20       NaN             en          NaN   Word of mouth   \n",
      "1  2022-10-11T12:24:20       NaN             zu          NaN             NaN   \n",
      "2  2022-10-11T12:24:20       Yes             en          NaN   Social events   \n",
      "3  2022-10-11T12:24:21       Yes             en          NaN              TV   \n",
      "4  2022-10-11T12:24:21       Yes             zu          NaN           Radio   \n",
      "\n",
      "  COMMUNICATION_WAY LEADER_PARTICIPATION COMMU_ORG AVG_MON_SAL HOUSE_HEAD  \\\n",
      "0     Word of mouth                  NaN       NaN         NaN     Mother   \n",
      "1               NaN                  NaN       NaN         NaN        NaN   \n",
      "2      Mobile phone                   No       NaN        3500      Other   \n",
      "3                TV                   No       Lns        1000     Father   \n",
      "4             Radio                   No       NaN        <500    Husband   \n",
      "\n",
      "   ...  EDU_LEVEL PARTICIPANT_JOB SELF_BUILT_HOUSE VEGES FLOOD_EXP YRLY_FLOOD  \\\n",
      "0  ...  Secondary      Unemployed              NaN   NaN       NaN        NaN   \n",
      "1  ...        NaN             NaN              NaN   NaN       NaN        NaN   \n",
      "2  ...  Secondary   Wage employee               No    No        No        NaN   \n",
      "3  ...  Secondary   Wage employee               No    No        No        NaN   \n",
      "4  ...  Secondary      Unemployed              Yes   Yes       Yes          1   \n",
      "\n",
      "  FIRE_EXP WATER_SATISFIED           TOILET_TYPE   WATER_SOURCE  \n",
      "0      NaN             NaN                   NaN            NaN  \n",
      "1      NaN             NaN                   NaN            NaN  \n",
      "2      Yes             Yes  Communal pit latrine  Community tap  \n",
      "3      Yes             Yes  Communal pit latrine  Community tap  \n",
      "4      Yes              No  Communal pit latrine  Community tap  \n",
      "\n",
      "[5 rows x 23 columns]\n"
     ]
    }
   ],
   "source": [
    "print(\"\\nFirst few rows of the dataset:\")\n",
    "print(data.head())"
   ]
  },
  {
   "cell_type": "code",
   "execution_count": 17,
   "id": "7df7230a-9d9c-4862-a72c-50f9447639ba",
   "metadata": {},
   "outputs": [
    {
     "name": "stdout",
     "output_type": "stream",
     "text": [
      "\n",
      "Missing Data per Column:\n",
      "DATE_TIME                  1\n",
      "HOUSE_PIC               4131\n",
      "INTERVIEW_LANG          4236\n",
      "EDU_RECIEVED            4344\n",
      "INFO_RECIEVING          4242\n",
      "COMMUNICATION_WAY       4240\n",
      "LEADER_PARTICIPATION    4246\n",
      "COMMU_ORG               4327\n",
      "AVG_MON_SAL             4271\n",
      "HOUSE_HEAD              4269\n",
      "NO_HOUSEHOLD            4263\n",
      "CHANG_ECO_SITUA         4269\n",
      "ACC_STATUS              4276\n",
      "EDU_LEVEL               4275\n",
      "PARTICIPANT_JOB         4260\n",
      "SELF_BUILT_HOUSE        4265\n",
      "VEGES                   4276\n",
      "FLOOD_EXP               4276\n",
      "YRLY_FLOOD              4351\n",
      "FIRE_EXP                4277\n",
      "WATER_SATISFIED         4308\n",
      "TOILET_TYPE             4314\n",
      "WATER_SOURCE            4277\n",
      "dtype: int64\n"
     ]
    }
   ],
   "source": [
    "print(\"\\nMissing Data per Column:\")\n",
    "print(data.isnull().sum())"
   ]
  },
  {
   "cell_type": "code",
   "execution_count": 18,
   "id": "f1b0fea2-cc33-4bd9-93ea-e8b6061d9c90",
   "metadata": {},
   "outputs": [
    {
     "name": "stdout",
     "output_type": "stream",
     "text": [
      "\n",
      "Normalized Columns in the dataset:\n",
      "Index(['date_time', 'house_pic', 'interview_lang', 'edu_recieved',\n",
      "       'info_recieving', 'communication_way', 'leader_participation',\n",
      "       'commu_org', 'avg_mon_sal', 'house_head', 'no_household',\n",
      "       'chang_eco_situa', 'acc_status', 'edu_level', 'participant_job',\n",
      "       'self_built_house', 'veges', 'flood_exp', 'yrly_flood', 'fire_exp',\n",
      "       'water_satisfied', 'toilet_type', 'water_source'],\n",
      "      dtype='object')\n"
     ]
    }
   ],
   "source": [
    "data.columns = data.columns.str.strip().str.lower()\n",
    "\n",
    "print(\"\\nNormalized Columns in the dataset:\")\n",
    "print(data.columns)"
   ]
  },
  {
   "cell_type": "code",
   "execution_count": 19,
   "id": "aa44b292-87ea-4b04-9d8b-9972c2f42133",
   "metadata": {},
   "outputs": [
    {
     "name": "stdout",
     "output_type": "stream",
     "text": [
      "\n",
      "Checking for expected columns in the dataset:\n",
      "Column 'communication_way' found in dataset.\n",
      "Column 'leader_participation' found in dataset.\n"
     ]
    }
   ],
   "source": [
    "expected_columns = ['communication_way', 'leader_participation']\n",
    "print(\"\\nChecking for expected columns in the dataset:\")\n",
    "for col in expected_columns:\n",
    "    if col in data.columns:\n",
    "        print(f\"Column '{col}' found in dataset.\")\n",
    "    else:\n",
    "        print(f\"Column '{col}' NOT found in dataset.\")"
   ]
  },
  {
   "cell_type": "code",
   "execution_count": 20,
   "id": "e3029284-15a9-4565-8632-3c373ed354af",
   "metadata": {},
   "outputs": [
    {
     "name": "stdout",
     "output_type": "stream",
     "text": [
      "\n",
      "Slicing and Indexing Example - First 5 rows of 'communication_way' and 'leader_participation':\n",
      "  communication_way leader_participation\n",
      "0     Word of mouth                  NaN\n",
      "1               NaN                  NaN\n",
      "2      Mobile phone                   No\n",
      "3                TV                   No\n",
      "4             Radio                   No\n"
     ]
    }
   ],
   "source": [
    "if 'communication_way' in data.columns and 'leader_participation' in data.columns:\n",
    "    print(\"\\nSlicing and Indexing Example - First 5 rows of 'communication_way' and 'leader_participation':\")\n",
    "    print(data[['communication_way', 'leader_participation']].head())\n",
    "else:\n",
    "    print(\"\\nCannot slice - 'communication_way' and/or 'leader_participation' columns not found.\")\n"
   ]
  },
  {
   "cell_type": "code",
   "execution_count": 29,
   "id": "a1367eec-dd83-4e72-b1f7-917773112973",
   "metadata": {},
   "outputs": [
    {
     "name": "stdout",
     "output_type": "stream",
     "text": [
      "\n",
      "First few rows after normalizing 'leader_participation':\n",
      "  communication_way leader_participation  leader_participation_numeric  \\\n",
      "0     Word of mouth                  NaN                           NaN   \n",
      "1               NaN                  NaN                           NaN   \n",
      "2      Mobile phone                   No                           0.0   \n",
      "3                TV                   No                           0.0   \n",
      "4             Radio                   No                           0.0   \n",
      "\n",
      "   leader_participation_normalized  \n",
      "0                              NaN  \n",
      "1                              NaN  \n",
      "2                              0.0  \n",
      "3                              0.0  \n",
      "4                              0.0  \n"
     ]
    }
   ],
   "source": [
    "if 'leader_participation' in data.columns:\n",
    "    # Convert categorical values to numeric values\n",
    "    data['leader_participation_numeric'] = data['leader_participation'].map({'Yes': 1, 'No': 0})\n",
    "    \n",
    "    # Initialize MinMaxScaler\n",
    "    scaler = MinMaxScaler()\n",
    "    \n",
    "    # Fit and transform the numeric values\n",
    "    data['leader_participation_normalized'] = scaler.fit_transform(data[['leader_participation_numeric']])\n",
    "    \n",
    "    # Display the first few rows of the relevant columns\n",
    "    print(\"\\nFirst few rows after normalizing 'leader_participation':\")\n",
    "    print(data[['communication_way', 'leader_participation', 'leader_participation_numeric', 'leader_participation_normalized']].head())\n",
    "else:\n",
    "    print(\"Column 'leader_participation' does not exist in the DataFrame.\")"
   ]
  },
  {
   "cell_type": "code",
   "execution_count": 30,
   "id": "3ae69e9a-0eda-4d7b-87b0-992b725c4cf2",
   "metadata": {},
   "outputs": [
    {
     "name": "stdout",
     "output_type": "stream",
     "text": [
      "\n",
      "Cleaned dataset saved to: C:/Users/vuyis/Downloads/Cleaned_Closed_Ended_Data.csv\n"
     ]
    }
   ],
   "source": [
    "cleaned_file_path = 'C:/Users/vuyis/Downloads/Cleaned_Closed_Ended_Data.csv'\n",
    "data.to_csv(cleaned_file_path, index=False)\n",
    "print(f\"\\nCleaned dataset saved to: {cleaned_file_path}\")\n"
   ]
  }
 ],
 "metadata": {
  "kernelspec": {
   "display_name": "Python 3 (ipykernel)",
   "language": "python",
   "name": "python3"
  },
  "language_info": {
   "codemirror_mode": {
    "name": "ipython",
    "version": 3
   },
   "file_extension": ".py",
   "mimetype": "text/x-python",
   "name": "python",
   "nbconvert_exporter": "python",
   "pygments_lexer": "ipython3",
   "version": "3.12.3"
  }
 },
 "nbformat": 4,
 "nbformat_minor": 5
}
